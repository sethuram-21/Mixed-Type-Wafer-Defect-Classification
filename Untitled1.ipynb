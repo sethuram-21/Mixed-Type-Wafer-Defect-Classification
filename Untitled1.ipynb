{
 "cells": [
  {
   "cell_type": "code",
   "execution_count": 8,
   "id": "cbfca9f6-3f1f-44d4-9def-3c2eadc3d804",
   "metadata": {},
   "outputs": [
    {
     "name": "stdout",
     "output_type": "stream",
     "text": [
      "Requirement already satisfied: split-folders in /home/sethu/anaconda3/lib/python3.12/site-packages (0.5.1)\n"
     ]
    }
   ],
   "source": [
    "import torch\n",
    "!pip install split-folders"
   ]
  },
  {
   "cell_type": "code",
   "execution_count": 10,
   "id": "1b292f06-fc47-475a-a675-d92a62de2ba4",
   "metadata": {},
   "outputs": [],
   "source": [
    "import splitfolders"
   ]
  },
  {
   "cell_type": "code",
   "execution_count": 12,
   "id": "08fd91f9-c17f-40cc-b3b4-0aacb0b4745c",
   "metadata": {},
   "outputs": [],
   "source": [
    "input = \"data\"\n",
    "output = \"data split\""
   ]
  },
  {
   "cell_type": "code",
   "execution_count": 14,
   "id": "6ace41b5-b11b-4fa5-89bf-e42469fa2d46",
   "metadata": {},
   "outputs": [
    {
     "name": "stderr",
     "output_type": "stream",
     "text": [
      "Copying files: 38015 files [00:06, 5943.60 files/s]\n"
     ]
    }
   ],
   "source": [
    "splitfolders.ratio(input, output=output, seed=1337, ratio=(0.72,0.08,0.2))"
   ]
  },
  {
   "cell_type": "code",
   "execution_count": 2,
   "id": "f8ca8eb8-eefd-4e1d-ada7-fb411a6bc3d1",
   "metadata": {},
   "outputs": [],
   "source": [
    "import os\n",
    "import torch\n",
    "import torchvision\n",
    "import torchvision.transforms as transforms"
   ]
  },
  {
   "cell_type": "code",
   "execution_count": 3,
   "id": "1b12882d-806d-4351-837a-aecad067a995",
   "metadata": {},
   "outputs": [
    {
     "data": {
      "text/plain": [
       "['c4',\n",
       " 'c19',\n",
       " 'c7',\n",
       " 'c2',\n",
       " 'c15',\n",
       " 'c12',\n",
       " 'c37',\n",
       " 'c29',\n",
       " 'c26',\n",
       " 'c31',\n",
       " 'c30',\n",
       " 'c24',\n",
       " 'c3',\n",
       " 'c35',\n",
       " 'c22',\n",
       " 'c11',\n",
       " 'c38',\n",
       " 'c25',\n",
       " 'c1',\n",
       " 'c20',\n",
       " 'c28',\n",
       " 'c33',\n",
       " 'c9',\n",
       " 'c27',\n",
       " 'c32',\n",
       " 'c8',\n",
       " 'c5',\n",
       " 'c10',\n",
       " 'c36',\n",
       " 'c13',\n",
       " 'c21',\n",
       " 'c16',\n",
       " 'c17',\n",
       " 'c34',\n",
       " 'c18',\n",
       " 'c23',\n",
       " 'c6',\n",
       " 'c14']"
      ]
     },
     "execution_count": 3,
     "metadata": {},
     "output_type": "execute_result"
    }
   ],
   "source": [
    "os.listdir('./data split/train')"
   ]
  },
  {
   "cell_type": "code",
   "execution_count": 6,
   "id": "c787f95b-a96a-4281-afaa-356198e50df3",
   "metadata": {},
   "outputs": [],
   "source": [
    "training_dataset_path=\"./data split/train\""
   ]
  },
  {
   "cell_type": "code",
   "execution_count": 8,
   "id": "18c0b19e-8c06-4cc3-9858-63f8e8d51423",
   "metadata": {},
   "outputs": [],
   "source": [
    "training_transforms = transforms.Compose([transforms.Resize((52,52)), transforms.ToTensor()])"
   ]
  },
  {
   "cell_type": "code",
   "execution_count": 10,
   "id": "f1a2c360-9faa-42fc-885a-0d75848ede00",
   "metadata": {},
   "outputs": [],
   "source": [
    "train_dataset = torchvision.datasets.ImageFolder( root = training_dataset_path, transform = training_transforms)"
   ]
  },
  {
   "cell_type": "code",
   "execution_count": 12,
   "id": "4aa311fe-c0eb-41c0-9a3b-faf51aede175",
   "metadata": {},
   "outputs": [],
   "source": [
    "train_loader = torch.utils.data.DataLoader( dataset = train_dataset, batch_size = 32 , shuffle=False)"
   ]
  },
  {
   "cell_type": "code",
   "execution_count": 14,
   "id": "1b4f2b02-f73a-4765-bff6-c5b697325478",
   "metadata": {},
   "outputs": [],
   "source": [
    "def get_mean_std(loader):\n",
    "    # Compute the mean and standard deviation of all pixels in the dataset\n",
    "    num_pixels = 0\n",
    "    mean = 0.0\n",
    "    std = 0.0\n",
    "    for images, _ in loader:\n",
    "        batch_size, num_channels, height, width = images.shape\n",
    "        num_pixels += batch_size * height * width\n",
    "        mean += images.mean(axis=(0, 2, 3)).sum()\n",
    "        std += images.std(axis=(0, 2, 3)).sum()\n",
    "\n",
    "    mean /= num_pixels\n",
    "    std /= num_pixels\n",
    "\n",
    "    return mean, std"
   ]
  },
  {
   "cell_type": "code",
   "execution_count": 16,
   "id": "e70b3527-041b-4983-8b20-dc55f53d63c6",
   "metadata": {},
   "outputs": [],
   "source": [
    "mean,std = get_mean_std(train_loader)"
   ]
  },
  {
   "cell_type": "code",
   "execution_count": 17,
   "id": "db7fdd5d-48fb-4dd9-a7a5-7f0ba09e5da9",
   "metadata": {},
   "outputs": [],
   "source": [
    "import matplotlib.pyplot as plt\n",
    "import numpy as np"
   ]
  },
  {
   "cell_type": "code",
   "execution_count": 18,
   "id": "6d1555fb-735e-4b6e-aa36-f809aa456154",
   "metadata": {},
   "outputs": [],
   "source": [
    "train_dataset_path = './data split/train'\n",
    "test_dataset_path = './data split/test'\n",
    "val_dataset_path = './data split/val'"
   ]
  },
  {
   "cell_type": "code",
   "execution_count": 19,
   "id": "37baf31e-bbdc-4e0e-9e4a-272da7087bec",
   "metadata": {},
   "outputs": [],
   "source": [
    "\n",
    "\n",
    "train_transforms = transforms.Compose([\n",
    "    transforms.Resize((52,52)),\n",
    "    transforms.Grayscale(num_output_channels=1),\n",
    "    transforms.RandomHorizontalFlip(),\n",
    "    transforms.ToTensor(),\n",
    "    transforms.Normalize(torch.Tensor(mean), torch.Tensor(std))\n",
    "])\n",
    "\n",
    "test_transforms = transforms.Compose([\n",
    "    transforms.Resize((52,52)),\n",
    "    transforms.Grayscale(num_output_channels=1),\n",
    "    transforms.ToTensor(),\n",
    "    transforms.Normalize(torch.Tensor(mean), torch.Tensor(std))\n",
    "])\n",
    "\n",
    "val_transforms = transforms.Compose([\n",
    "    transforms.Resize((52,52)),\n",
    "    transforms.Grayscale(num_output_channels=1),\n",
    "    transforms.ToTensor(),\n",
    "    transforms.Normalize(torch.Tensor(mean), torch.Tensor(std))\n",
    "])    \n",
    "    "
   ]
  },
  {
   "cell_type": "code",
   "execution_count": 24,
   "id": "0a7dee68-6dca-47bf-9e64-f7f25489b062",
   "metadata": {},
   "outputs": [],
   "source": [
    "train_dataset = torchvision.datasets.ImageFolder(root = train_dataset_path, transform = train_transforms)\n",
    "test_dataset = torchvision.datasets.ImageFolder(root = test_dataset_path, transform = test_transforms)\n",
    "val_dataset = torchvision.datasets.ImageFolder(root = val_dataset_path, transform = val_transforms)"
   ]
  },
  {
   "cell_type": "code",
   "execution_count": 26,
   "id": "ca97f83b-13c0-4872-9f37-ff448e3ecd63",
   "metadata": {},
   "outputs": [],
   "source": [
    "train_loader = torch.utils.data.DataLoader(train_dataset, batch_size=32, shuffle=True)\n",
    "test_loader = torch.utils.data.DataLoader(test_dataset, batch_size=32, shuffle=False)\n",
    "val_loader = torch.utils.data.DataLoader(val_dataset, batch_size=32, shuffle=False)"
   ]
  },
  {
   "cell_type": "code",
   "execution_count": 28,
   "id": "c7bcf9ff-6dce-47cb-aa5c-b71e115e8891",
   "metadata": {},
   "outputs": [],
   "source": [
    "def set_device():\n",
    "    if torch.cuda.is_available():\n",
    "        dev = \"cuda\"\n",
    "    else : \n",
    "        dev = \"cpu\"\n",
    "    return torch.device(dev)"
   ]
  },
  {
   "cell_type": "code",
   "execution_count": 30,
   "id": "676f0ca9-a5fe-47e7-b7b2-397b9a736ce9",
   "metadata": {},
   "outputs": [],
   "source": [
    "import torch.nn as nn\n",
    "import torch.nn.functional as F\n",
    "\n",
    "class ConvBlock(nn.Module):\n",
    "    def __init__(self, in_channels, out_channels, kernel_size=3, stride=1, padding=1):\n",
    "        super(ConvBlock, self).__init__()\n",
    "        self.conv = nn.Conv2d(in_channels, out_channels, kernel_size, stride, padding)\n",
    "        self.bn = nn.BatchNorm2d(out_channels)\n",
    "        self.relu = nn.ReLU(inplace=True)\n",
    "\n",
    "    def forward(self, x):\n",
    "        x = self.conv(x)\n",
    "        x = self.bn(x)\n",
    "        x = self.relu(x)\n",
    "        return x\n",
    "\n",
    "class ChannelAttention(nn.Module):\n",
    "    def __init__(self, in_planes, ratio=16):\n",
    "        super(ChannelAttention, self).__init__()\n",
    "        self.avg_pool = nn.AdaptiveAvgPool2d(1)\n",
    "        self.max_pool = nn.AdaptiveMaxPool2d(1)\n",
    "\n",
    "        self.fc = nn.Sequential(\n",
    "            nn.Conv2d(in_planes, in_planes // ratio, 1, bias=False),\n",
    "            nn.ReLU(),\n",
    "            nn.Conv2d(in_planes // ratio, in_planes, 1, bias=False)\n",
    "        )\n",
    "        self.sigmoid = nn.Sigmoid()\n",
    "\n",
    "    def forward(self, x):\n",
    "        avg_out = self.fc(self.avg_pool(x))\n",
    "        max_out = self.fc(self.max_pool(x))\n",
    "        out = avg_out + max_out\n",
    "        return self.sigmoid(out)\n",
    "\n",
    "class SpatialAttention(nn.Module):\n",
    "    def __init__(self, kernel_size=7):\n",
    "        super(SpatialAttention, self).__init__()\n",
    "        assert kernel_size in (3, 7), \"kernel size must be 3 or 7\"\n",
    "        padding = 3 if kernel_size == 7 else 1\n",
    "\n",
    "        self.conv1 = nn.Conv2d(2, 1, kernel_size, padding=padding, bias=False)\n",
    "        self.sigmoid = nn.Sigmoid()\n",
    "\n",
    "    def forward(self, x):\n",
    "        avg_out = torch.mean(x, dim=1, keepdim=True)\n",
    "        max_out, _ = torch.max(x, dim=1, keepdim=True)\n",
    "        x = torch.cat([avg_out, max_out], dim=1)\n",
    "        x = self.conv1(x)\n",
    "        return self.sigmoid(x)\n",
    "\n",
    "class AttentionBlock(nn.Module):\n",
    "    def __init__(self, in_channels, out_channels, ratio=16, kernel_size=7):\n",
    "        super(AttentionBlock, self).__init__()\n",
    "        self.conv_block = ConvBlock(in_channels, out_channels)\n",
    "        self.channel_attention = ChannelAttention(out_channels, ratio)\n",
    "        self.spatial_attention = SpatialAttention(kernel_size)\n",
    "\n",
    "    def forward(self, x):\n",
    "        x = self.conv_block(x)  # Feature Maps (F)\n",
    "        x = x * self.channel_attention(x)  # Channel Refined Maps (F')\n",
    "        x = x * self.spatial_attention(x)  # Fully Refined Maps (F'')\n",
    "        return x\n",
    "\n",
    "class ConvModule(nn.Module):\n",
    "    def __init__(self):\n",
    "        super(ConvModule, self).__init__()\n",
    "        self.conv1 = ConvBlock(1, 256)  # Assuming input image has 1 channel\n",
    "        self.conv2 = nn.Sequential(\n",
    "            ConvBlock(256, 256),\n",
    "            nn.MaxPool2d(2)\n",
    "        )\n",
    "        self.conv3 = nn.Sequential(\n",
    "            ConvBlock(256, 128),\n",
    "            nn.MaxPool2d(2)\n",
    "        )\n",
    "\n",
    "    def forward(self, x):\n",
    "        x = self.conv1(x)\n",
    "        x = self.conv2(x)\n",
    "        x = self.conv3(x)\n",
    "        return x\n",
    "\n",
    "class AttentionModule(nn.Module):\n",
    "    def __init__(self, in_channels, out_channels):\n",
    "        super(AttentionModule, self).__init__()\n",
    "        self.attention_blocks = nn.ModuleList(\n",
    "            [AttentionBlock(in_channels if i == 0 else out_channels, out_channels) for i in range(8)]\n",
    "        )\n",
    "\n",
    "    def forward(self, x):\n",
    "        outputs = []\n",
    "        for attention_block in self.attention_blocks:\n",
    "            x = attention_block(x)\n",
    "            outputs.append(x)\n",
    "        return sum(outputs)\n",
    "\n",
    "class ClassificationModule(nn.Module):\n",
    "    def __init__(self, in_features, num_classes):\n",
    "        super(ClassificationModule, self).__init__()\n",
    "        self.global_avg_pool = nn.AdaptiveAvgPool2d((1, 1))\n",
    "        self.fc1 = nn.Linear(in_features, 1024)\n",
    "        self.fc2 = nn.Linear(1024, 256)\n",
    "        self.fc3 = nn.Linear(256, num_classes)\n",
    "\n",
    "    def forward(self, x):\n",
    "        x = self.global_avg_pool(x)\n",
    "        x = x.view(x.size(0), -1)\n",
    "        x = self.fc1(x)\n",
    "        x = self.fc2(x)\n",
    "        x = self.fc3(x)\n",
    "        return x\n",
    "\n",
    "class AttentionAugmentedCNN(nn.Module):\n",
    "    def __init__(self, num_classes=38):\n",
    "        super(AttentionAugmentedCNN, self).__init__()\n",
    "        self.conv_module = ConvModule()\n",
    "        self.attention_module = AttentionModule(128, 128)  # Assuming output of ConvModule is 128 channels\n",
    "        self.classification_module = ClassificationModule(128, num_classes)\n",
    "\n",
    "    def forward(self, x):\n",
    "        x = self.conv_module(x)\n",
    "        x = self.attention_module(x)\n",
    "        x = self.classification_module(x)\n",
    "        return x\n"
   ]
  },
  {
   "cell_type": "code",
   "execution_count": 32,
   "id": "1db6e188-e29b-4e72-b8bb-52a1ddefdd69",
   "metadata": {},
   "outputs": [],
   "source": [
    "class FocalLoss(nn.Module):\n",
    "    def __init__(self, alpha=1, gamma=2, reduction='mean'):\n",
    "        super(FocalLoss, self).__init__()\n",
    "        self.alpha = alpha\n",
    "        self.gamma = gamma\n",
    "        self.reduction = reduction\n",
    "\n",
    "    def forward(self, inputs, targets):\n",
    "        targets = F.one_hot(targets, num_classes=inputs.size(-1))\n",
    "        log_p = F.log_softmax(inputs, dim=-1)\n",
    "        p = torch.exp(log_p)\n",
    "        focal_loss = -self.alpha * (1 - p) ** self.gamma * log_p\n",
    "        focal_loss = focal_loss * targets\n",
    "        if self.reduction == 'mean':\n",
    "            return focal_loss.mean()\n",
    "        elif self.reduction == 'sum':\n",
    "            return focal_loss.sum()\n",
    "        else:\n",
    "            return focal_loss"
   ]
  },
  {
   "cell_type": "code",
   "execution_count": 34,
   "id": "5f94f380-8804-4bb8-805a-2106da7d9453",
   "metadata": {},
   "outputs": [
    {
     "name": "stdout",
     "output_type": "stream",
     "text": [
      "Epoch [1] Loss: 0.0149 Accuracy: 69.05%\n",
      "Validation Loss: 0.0070 Accuracy: 81.78%\n",
      "Epoch [2] Loss: 0.0036 Accuracy: 91.29%\n",
      "Validation Loss: 0.0025 Accuracy: 93.78%\n",
      "Epoch [3] Loss: 0.0026 Accuracy: 93.76%\n",
      "Validation Loss: 0.0014 Accuracy: 96.55%\n",
      "Epoch [4] Loss: 0.0022 Accuracy: 94.62%\n",
      "Validation Loss: 0.0018 Accuracy: 96.05%\n",
      "Epoch [5] Loss: 0.0022 Accuracy: 94.78%\n",
      "Validation Loss: 0.0025 Accuracy: 93.91%\n",
      "Epoch [6] Loss: 0.0017 Accuracy: 95.84%\n",
      "Validation Loss: 0.0024 Accuracy: 95.49%\n",
      "Epoch [7] Loss: 0.0019 Accuracy: 95.58%\n",
      "Validation Loss: 0.0022 Accuracy: 95.23%\n",
      "Epoch [8] Loss: 0.0015 Accuracy: 96.48%\n",
      "Validation Loss: 0.0012 Accuracy: 97.24%\n",
      "Epoch [9] Loss: 0.0015 Accuracy: 96.35%\n",
      "Validation Loss: 0.0017 Accuracy: 95.66%\n",
      "Epoch [10] Loss: 0.0013 Accuracy: 96.86%\n",
      "Validation Loss: 0.0017 Accuracy: 96.38%\n",
      "Test Accuracy: 96.95%\n"
     ]
    }
   ],
   "source": [
    "import torch.optim as optim\n",
    "\n",
    "# Define device\n",
    "device = torch.device('cuda' if torch.cuda.is_available() else 'cpu')\n",
    "\n",
    "# Initialize model, loss function, and optimizer\n",
    "model = AttentionAugmentedCNN().to(device)\n",
    "criterion = FocalLoss(alpha=1, gamma=2)\n",
    "optimizer = optim.Adam(model.parameters(), lr=0.001)\n",
    "\n",
    "# Training function\n",
    "def train(model, train_loader, criterion, optimizer, epoch):\n",
    "    model.train()\n",
    "    running_loss = 0.0\n",
    "    correct = 0\n",
    "    total = 0\n",
    "    for inputs, targets in train_loader:\n",
    "        inputs, targets = inputs.to(device), targets.to(device)\n",
    "        optimizer.zero_grad()\n",
    "        outputs = model(inputs)\n",
    "        loss = criterion(outputs, targets) \n",
    "        loss.backward()\n",
    "        optimizer.step() \n",
    "        running_loss += loss.item()\n",
    "        _, predicted = outputs.max(1)\n",
    "        total += targets.size(0)\n",
    "        correct += predicted.eq(targets).sum().item()\n",
    "    print(f'Epoch [{epoch+1}] Loss: {running_loss/len(train_loader):.4f} Accuracy: {100.*correct/total:.2f}%')\n",
    "\n",
    "# Validation function\n",
    "def validate(model, val_loader, criterion):\n",
    "    model.eval()\n",
    "    running_loss = 0.0\n",
    "    correct = 0\n",
    "    total = 0\n",
    "    with torch.no_grad():\n",
    "        for inputs, targets in val_loader:\n",
    "            inputs, targets = inputs.to(device), targets.to(device)\n",
    "            outputs = model(inputs)\n",
    "            loss = criterion(outputs, targets)\n",
    "            running_loss += loss.item()\n",
    "            _, predicted = outputs.max(1)\n",
    "            total += targets.size(0)\n",
    "            correct += predicted.eq(targets).sum().item()\n",
    "    print(f'Validation Loss: {running_loss/len(val_loader):.4f} Accuracy: {100.*correct/total:.2f}%')\n",
    "    return running_loss / len(val_loader)\n",
    "\n",
    "# Training loop\n",
    "num_epochs = 10\n",
    "best_val_loss = float('inf')\n",
    "for epoch in range(num_epochs):\n",
    "    train(model, train_loader, criterion, optimizer, epoch)\n",
    "    val_loss = validate(model, val_loader, criterion)\n",
    "    if val_loss < best_val_loss:\n",
    "        best_val_loss = val_loss\n",
    "        torch.save(model.state_dict(), 'best_model.pth')\n",
    "\n",
    "# Load the best model and evaluate on the test set\n",
    "model.load_state_dict(torch.load('best_model.pth'))\n",
    "model.eval()\n",
    "correct = 0\n",
    "total = 0\n",
    "with torch.no_grad():\n",
    "    for inputs, targets in test_loader:\n",
    "        inputs, targets = inputs.to(device), targets.to(device)\n",
    "        outputs = model(inputs)\n",
    "        _, predicted = outputs.max(1)\n",
    "        total += targets.size(0)\n",
    "        correct += predicted.eq(targets).sum().item()\n",
    "print(f'Test Accuracy: {100.*correct/total:.2f}%')\n"
   ]
  },
  {
   "cell_type": "code",
   "execution_count": 59,
   "id": "b30d332f-0697-49af-be7e-1dc7b0c4a770",
   "metadata": {},
   "outputs": [
    {
     "data": {
      "image/png": "[encoded data removed]",
      "text/plain": [
       "<Figure size 640x480 with 1 Axes>"
      ]
     },
     "metadata": {},
     "output_type": "display_data"
    }
   ],
   "source": [
    "import torch\n",
    "import matplotlib.pyplot as plt\n",
    "import numpy as np\n",
    "import random\n",
    "\n",
    "model = AttentionAugmentedCNN()  \n",
    "\n",
    "model.load_state_dict(torch.load('best_model.pth'))  \n",
    "model = model.to(device)  \n",
    "\n",
    "model.eval()\n",
    "\n",
    "\n",
    "all_images = []\n",
    "all_labels = []\n",
    "for batch in test_loader:\n",
    "    images, labels = batch\n",
    "    all_images.append(images)\n",
    "    all_labels.append(labels)\n",
    "\n",
    "all_images = torch.cat(all_images, dim=0)\n",
    "all_labels = torch.cat(all_labels, dim=0)\n",
    "\n",
    "index = random.randint(0, len(all_images) - 1)\n",
    "image = all_images[index]\n",
    "label = all_labels[index]\n",
    "\n",
    "image_tensor = image.unsqueeze(0) \n",
    "image_tensor = image_tensor.to(device)  \n",
    "\n",
    "\n",
    "with torch.no_grad():\n",
    "    output = model(image_tensor)\n",
    "    _, predicted = torch.max(output.data, 1)\n",
    "\n",
    "image_np = image.cpu().numpy().transpose((1, 2, 0))  \n",
    "mean = np.array([0.485, 0.456, 0.406])  \n",
    "std = np.array([0.229, 0.224, 0.225])\n",
    "image_np = std * image_np + mean \n",
    "image_np = np.clip(image_np, 0, 1)\n",
    "\n",
    "\n",
    "plt.imshow(image_np)\n",
    "plt.title(f'Predicted: {predicted.item()}, True: {label.item()}')\n",
    "plt.show()\n"
   ]
  },
  {
   "cell_type": "code",
   "execution_count": null,
   "id": "df7134bb-c856-491d-8807-77300917b756",
   "metadata": {},
   "outputs": [],
   "source": []
  },
  {
   "cell_type": "code",
   "execution_count": null,
   "id": "fd48656e-a27f-4872-9536-748cab5beea8",
   "metadata": {},
   "outputs": [],
   "source": []
  }
 ],
 "metadata": {
  "kernelspec": {
   "display_name": "Python 3 (ipykernel)",
   "language": "python",
   "name": "python3"
  },
  "language_info": {
   "codemirror_mode": {
    "name": "ipython",
    "version": 3
   },
   "file_extension": ".py",
   "mimetype": "text/x-python",
   "name": "python",
   "nbconvert_exporter": "python",
   "pygments_lexer": "ipython3",
   "version": "3.12.4"
  }
 },
 "nbformat": 4,
 "nbformat_minor": 5
}
